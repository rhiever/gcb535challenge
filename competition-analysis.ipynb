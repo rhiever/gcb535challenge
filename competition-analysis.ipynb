{
 "cells": [
  {
   "cell_type": "code",
   "execution_count": 1,
   "metadata": {
    "collapsed": false
   },
   "outputs": [
    {
     "name": "stdout",
     "output_type": "stream",
     "text": [
      "D1_S1.csv D1_S2.csv D2_S1.csv D2_S2.csv\r\n"
     ]
    }
   ],
   "source": [
    "!ls data"
   ]
  },
  {
   "cell_type": "code",
   "execution_count": 1,
   "metadata": {
    "collapsed": false
   },
   "outputs": [
    {
     "data": {
      "text/html": [
       "<div>\n",
       "<table border=\"1\" class=\"dataframe\">\n",
       "  <thead>\n",
       "    <tr style=\"text-align: right;\">\n",
       "      <th></th>\n",
       "      <th>0</th>\n",
       "      <th>1</th>\n",
       "      <th>2</th>\n",
       "      <th>3</th>\n",
       "      <th>4</th>\n",
       "      <th>5</th>\n",
       "      <th>6</th>\n",
       "      <th>7</th>\n",
       "      <th>8</th>\n",
       "      <th>9</th>\n",
       "      <th>...</th>\n",
       "      <th>191</th>\n",
       "      <th>192</th>\n",
       "      <th>193</th>\n",
       "      <th>194</th>\n",
       "      <th>195</th>\n",
       "      <th>196</th>\n",
       "      <th>197</th>\n",
       "      <th>198</th>\n",
       "      <th>199</th>\n",
       "      <th>label</th>\n",
       "    </tr>\n",
       "  </thead>\n",
       "  <tbody>\n",
       "    <tr>\n",
       "      <th>count</th>\n",
       "      <td>2000.000000</td>\n",
       "      <td>2000.000000</td>\n",
       "      <td>2000.000000</td>\n",
       "      <td>2000.000000</td>\n",
       "      <td>2000.000000</td>\n",
       "      <td>2000.000000</td>\n",
       "      <td>2000.000000</td>\n",
       "      <td>2000.000000</td>\n",
       "      <td>2000.000000</td>\n",
       "      <td>2000.000000</td>\n",
       "      <td>...</td>\n",
       "      <td>2000.000000</td>\n",
       "      <td>2000.000000</td>\n",
       "      <td>2000.000000</td>\n",
       "      <td>2000.000000</td>\n",
       "      <td>2000.000000</td>\n",
       "      <td>2000.000000</td>\n",
       "      <td>2000.000000</td>\n",
       "      <td>2000.000000</td>\n",
       "      <td>2000.000000</td>\n",
       "      <td>2000.000000</td>\n",
       "    </tr>\n",
       "    <tr>\n",
       "      <th>mean</th>\n",
       "      <td>0.484517</td>\n",
       "      <td>0.603296</td>\n",
       "      <td>0.527484</td>\n",
       "      <td>0.524455</td>\n",
       "      <td>0.535170</td>\n",
       "      <td>0.528200</td>\n",
       "      <td>0.517698</td>\n",
       "      <td>0.528911</td>\n",
       "      <td>0.556003</td>\n",
       "      <td>0.547560</td>\n",
       "      <td>...</td>\n",
       "      <td>0.518130</td>\n",
       "      <td>0.521077</td>\n",
       "      <td>0.529115</td>\n",
       "      <td>0.521207</td>\n",
       "      <td>0.534338</td>\n",
       "      <td>0.513576</td>\n",
       "      <td>0.523872</td>\n",
       "      <td>0.531327</td>\n",
       "      <td>0.520670</td>\n",
       "      <td>0.510500</td>\n",
       "    </tr>\n",
       "    <tr>\n",
       "      <th>std</th>\n",
       "      <td>0.125568</td>\n",
       "      <td>0.125101</td>\n",
       "      <td>0.130345</td>\n",
       "      <td>0.129053</td>\n",
       "      <td>0.138816</td>\n",
       "      <td>0.138340</td>\n",
       "      <td>0.122653</td>\n",
       "      <td>0.127035</td>\n",
       "      <td>0.130578</td>\n",
       "      <td>0.137260</td>\n",
       "      <td>...</td>\n",
       "      <td>0.138898</td>\n",
       "      <td>0.134149</td>\n",
       "      <td>0.117884</td>\n",
       "      <td>0.137467</td>\n",
       "      <td>0.113753</td>\n",
       "      <td>0.124029</td>\n",
       "      <td>0.145841</td>\n",
       "      <td>0.108004</td>\n",
       "      <td>0.133091</td>\n",
       "      <td>0.500015</td>\n",
       "    </tr>\n",
       "    <tr>\n",
       "      <th>min</th>\n",
       "      <td>0.033796</td>\n",
       "      <td>0.148119</td>\n",
       "      <td>0.079432</td>\n",
       "      <td>0.146580</td>\n",
       "      <td>0.036937</td>\n",
       "      <td>0.007581</td>\n",
       "      <td>0.080452</td>\n",
       "      <td>0.052333</td>\n",
       "      <td>0.140795</td>\n",
       "      <td>0.000000</td>\n",
       "      <td>...</td>\n",
       "      <td>0.085850</td>\n",
       "      <td>0.135266</td>\n",
       "      <td>0.125719</td>\n",
       "      <td>0.034773</td>\n",
       "      <td>0.117501</td>\n",
       "      <td>0.133322</td>\n",
       "      <td>0.110582</td>\n",
       "      <td>0.159424</td>\n",
       "      <td>0.000000</td>\n",
       "      <td>0.000000</td>\n",
       "    </tr>\n",
       "    <tr>\n",
       "      <th>25%</th>\n",
       "      <td>0.398927</td>\n",
       "      <td>0.515827</td>\n",
       "      <td>0.438314</td>\n",
       "      <td>0.438442</td>\n",
       "      <td>0.446335</td>\n",
       "      <td>0.435436</td>\n",
       "      <td>0.432106</td>\n",
       "      <td>0.441108</td>\n",
       "      <td>0.468343</td>\n",
       "      <td>0.455803</td>\n",
       "      <td>...</td>\n",
       "      <td>0.421259</td>\n",
       "      <td>0.427846</td>\n",
       "      <td>0.450067</td>\n",
       "      <td>0.425570</td>\n",
       "      <td>0.458731</td>\n",
       "      <td>0.431910</td>\n",
       "      <td>0.422417</td>\n",
       "      <td>0.458637</td>\n",
       "      <td>0.430851</td>\n",
       "      <td>0.000000</td>\n",
       "    </tr>\n",
       "    <tr>\n",
       "      <th>50%</th>\n",
       "      <td>0.480245</td>\n",
       "      <td>0.605005</td>\n",
       "      <td>0.527086</td>\n",
       "      <td>0.526395</td>\n",
       "      <td>0.536056</td>\n",
       "      <td>0.530723</td>\n",
       "      <td>0.520054</td>\n",
       "      <td>0.529026</td>\n",
       "      <td>0.554633</td>\n",
       "      <td>0.549158</td>\n",
       "      <td>...</td>\n",
       "      <td>0.515100</td>\n",
       "      <td>0.520997</td>\n",
       "      <td>0.527434</td>\n",
       "      <td>0.523216</td>\n",
       "      <td>0.536687</td>\n",
       "      <td>0.518277</td>\n",
       "      <td>0.524227</td>\n",
       "      <td>0.531775</td>\n",
       "      <td>0.525801</td>\n",
       "      <td>1.000000</td>\n",
       "    </tr>\n",
       "    <tr>\n",
       "      <th>75%</th>\n",
       "      <td>0.570549</td>\n",
       "      <td>0.690397</td>\n",
       "      <td>0.613994</td>\n",
       "      <td>0.613177</td>\n",
       "      <td>0.624718</td>\n",
       "      <td>0.621261</td>\n",
       "      <td>0.600918</td>\n",
       "      <td>0.614945</td>\n",
       "      <td>0.641848</td>\n",
       "      <td>0.640295</td>\n",
       "      <td>...</td>\n",
       "      <td>0.611955</td>\n",
       "      <td>0.613226</td>\n",
       "      <td>0.604772</td>\n",
       "      <td>0.615965</td>\n",
       "      <td>0.610602</td>\n",
       "      <td>0.597768</td>\n",
       "      <td>0.628289</td>\n",
       "      <td>0.602818</td>\n",
       "      <td>0.609916</td>\n",
       "      <td>1.000000</td>\n",
       "    </tr>\n",
       "    <tr>\n",
       "      <th>max</th>\n",
       "      <td>0.897102</td>\n",
       "      <td>1.000000</td>\n",
       "      <td>0.971268</td>\n",
       "      <td>1.000000</td>\n",
       "      <td>0.955555</td>\n",
       "      <td>0.973873</td>\n",
       "      <td>0.936603</td>\n",
       "      <td>0.928753</td>\n",
       "      <td>0.966605</td>\n",
       "      <td>0.962468</td>\n",
       "      <td>...</td>\n",
       "      <td>0.954253</td>\n",
       "      <td>0.942368</td>\n",
       "      <td>1.000000</td>\n",
       "      <td>0.994133</td>\n",
       "      <td>1.000000</td>\n",
       "      <td>0.886028</td>\n",
       "      <td>0.988170</td>\n",
       "      <td>0.900325</td>\n",
       "      <td>0.964493</td>\n",
       "      <td>1.000000</td>\n",
       "    </tr>\n",
       "  </tbody>\n",
       "</table>\n",
       "<p>8 rows × 201 columns</p>\n",
       "</div>"
      ],
      "text/plain": [
       "                 0            1            2            3            4  \\\n",
       "count  2000.000000  2000.000000  2000.000000  2000.000000  2000.000000   \n",
       "mean      0.484517     0.603296     0.527484     0.524455     0.535170   \n",
       "std       0.125568     0.125101     0.130345     0.129053     0.138816   \n",
       "min       0.033796     0.148119     0.079432     0.146580     0.036937   \n",
       "25%       0.398927     0.515827     0.438314     0.438442     0.446335   \n",
       "50%       0.480245     0.605005     0.527086     0.526395     0.536056   \n",
       "75%       0.570549     0.690397     0.613994     0.613177     0.624718   \n",
       "max       0.897102     1.000000     0.971268     1.000000     0.955555   \n",
       "\n",
       "                 5            6            7            8            9  \\\n",
       "count  2000.000000  2000.000000  2000.000000  2000.000000  2000.000000   \n",
       "mean      0.528200     0.517698     0.528911     0.556003     0.547560   \n",
       "std       0.138340     0.122653     0.127035     0.130578     0.137260   \n",
       "min       0.007581     0.080452     0.052333     0.140795     0.000000   \n",
       "25%       0.435436     0.432106     0.441108     0.468343     0.455803   \n",
       "50%       0.530723     0.520054     0.529026     0.554633     0.549158   \n",
       "75%       0.621261     0.600918     0.614945     0.641848     0.640295   \n",
       "max       0.973873     0.936603     0.928753     0.966605     0.962468   \n",
       "\n",
       "          ...               191          192          193          194  \\\n",
       "count     ...       2000.000000  2000.000000  2000.000000  2000.000000   \n",
       "mean      ...          0.518130     0.521077     0.529115     0.521207   \n",
       "std       ...          0.138898     0.134149     0.117884     0.137467   \n",
       "min       ...          0.085850     0.135266     0.125719     0.034773   \n",
       "25%       ...          0.421259     0.427846     0.450067     0.425570   \n",
       "50%       ...          0.515100     0.520997     0.527434     0.523216   \n",
       "75%       ...          0.611955     0.613226     0.604772     0.615965   \n",
       "max       ...          0.954253     0.942368     1.000000     0.994133   \n",
       "\n",
       "               195          196          197          198          199  \\\n",
       "count  2000.000000  2000.000000  2000.000000  2000.000000  2000.000000   \n",
       "mean      0.534338     0.513576     0.523872     0.531327     0.520670   \n",
       "std       0.113753     0.124029     0.145841     0.108004     0.133091   \n",
       "min       0.117501     0.133322     0.110582     0.159424     0.000000   \n",
       "25%       0.458731     0.431910     0.422417     0.458637     0.430851   \n",
       "50%       0.536687     0.518277     0.524227     0.531775     0.525801   \n",
       "75%       0.610602     0.597768     0.628289     0.602818     0.609916   \n",
       "max       1.000000     0.886028     0.988170     0.900325     0.964493   \n",
       "\n",
       "             label  \n",
       "count  2000.000000  \n",
       "mean      0.510500  \n",
       "std       0.500015  \n",
       "min       0.000000  \n",
       "25%       0.000000  \n",
       "50%       1.000000  \n",
       "75%       1.000000  \n",
       "max       1.000000  \n",
       "\n",
       "[8 rows x 201 columns]"
      ]
     },
     "execution_count": 1,
     "metadata": {},
     "output_type": "execute_result"
    }
   ],
   "source": [
    "import pandas as pd\n",
    "\n",
    "d1_training = pd.read_csv('data/D1_S1.csv', header=None)\n",
    "d1_training.rename(columns={200: 'label'}, inplace=True)\n",
    "d1_training['label'] = d1_training['label'].astype(int)\n",
    "d1_training.describe()"
   ]
  },
  {
   "cell_type": "code",
   "execution_count": 2,
   "metadata": {
    "collapsed": false
   },
   "outputs": [
    {
     "data": {
      "text/html": [
       "<div>\n",
       "<table border=\"1\" class=\"dataframe\">\n",
       "  <thead>\n",
       "    <tr style=\"text-align: right;\">\n",
       "      <th></th>\n",
       "      <th>0</th>\n",
       "      <th>1</th>\n",
       "      <th>2</th>\n",
       "      <th>3</th>\n",
       "      <th>4</th>\n",
       "      <th>5</th>\n",
       "      <th>6</th>\n",
       "      <th>7</th>\n",
       "      <th>8</th>\n",
       "      <th>9</th>\n",
       "      <th>...</th>\n",
       "      <th>191</th>\n",
       "      <th>192</th>\n",
       "      <th>193</th>\n",
       "      <th>194</th>\n",
       "      <th>195</th>\n",
       "      <th>196</th>\n",
       "      <th>197</th>\n",
       "      <th>198</th>\n",
       "      <th>199</th>\n",
       "      <th>label</th>\n",
       "    </tr>\n",
       "  </thead>\n",
       "  <tbody>\n",
       "    <tr>\n",
       "      <th>count</th>\n",
       "      <td>1000.000000</td>\n",
       "      <td>1000.000000</td>\n",
       "      <td>1000.000000</td>\n",
       "      <td>1000.000000</td>\n",
       "      <td>1000.000000</td>\n",
       "      <td>1000.000000</td>\n",
       "      <td>1000.000000</td>\n",
       "      <td>1000.000000</td>\n",
       "      <td>1000.000000</td>\n",
       "      <td>1000.000000</td>\n",
       "      <td>...</td>\n",
       "      <td>1000.000000</td>\n",
       "      <td>1000.000000</td>\n",
       "      <td>1000.000000</td>\n",
       "      <td>1000.000000</td>\n",
       "      <td>1000.000000</td>\n",
       "      <td>1000.000000</td>\n",
       "      <td>1000.000000</td>\n",
       "      <td>1000.000000</td>\n",
       "      <td>1000.000000</td>\n",
       "      <td>1000.000000</td>\n",
       "    </tr>\n",
       "    <tr>\n",
       "      <th>mean</th>\n",
       "      <td>0.477035</td>\n",
       "      <td>0.605451</td>\n",
       "      <td>0.519756</td>\n",
       "      <td>0.521853</td>\n",
       "      <td>0.532841</td>\n",
       "      <td>0.539391</td>\n",
       "      <td>0.516900</td>\n",
       "      <td>0.536374</td>\n",
       "      <td>0.550829</td>\n",
       "      <td>0.550543</td>\n",
       "      <td>...</td>\n",
       "      <td>0.515363</td>\n",
       "      <td>0.517453</td>\n",
       "      <td>0.529597</td>\n",
       "      <td>0.513129</td>\n",
       "      <td>0.539461</td>\n",
       "      <td>0.515945</td>\n",
       "      <td>0.518995</td>\n",
       "      <td>0.531421</td>\n",
       "      <td>0.514587</td>\n",
       "      <td>0.482000</td>\n",
       "    </tr>\n",
       "    <tr>\n",
       "      <th>std</th>\n",
       "      <td>0.130216</td>\n",
       "      <td>0.126000</td>\n",
       "      <td>0.133386</td>\n",
       "      <td>0.131019</td>\n",
       "      <td>0.136391</td>\n",
       "      <td>0.138600</td>\n",
       "      <td>0.122012</td>\n",
       "      <td>0.124102</td>\n",
       "      <td>0.135434</td>\n",
       "      <td>0.137617</td>\n",
       "      <td>...</td>\n",
       "      <td>0.139410</td>\n",
       "      <td>0.135775</td>\n",
       "      <td>0.117571</td>\n",
       "      <td>0.137555</td>\n",
       "      <td>0.109567</td>\n",
       "      <td>0.126176</td>\n",
       "      <td>0.137746</td>\n",
       "      <td>0.111099</td>\n",
       "      <td>0.131352</td>\n",
       "      <td>0.499926</td>\n",
       "    </tr>\n",
       "    <tr>\n",
       "      <th>min</th>\n",
       "      <td>0.000000</td>\n",
       "      <td>0.192704</td>\n",
       "      <td>0.035719</td>\n",
       "      <td>0.105112</td>\n",
       "      <td>0.040008</td>\n",
       "      <td>0.009593</td>\n",
       "      <td>0.069655</td>\n",
       "      <td>0.000000</td>\n",
       "      <td>0.154268</td>\n",
       "      <td>0.105164</td>\n",
       "      <td>...</td>\n",
       "      <td>0.094081</td>\n",
       "      <td>0.064514</td>\n",
       "      <td>0.187355</td>\n",
       "      <td>0.044225</td>\n",
       "      <td>0.192433</td>\n",
       "      <td>0.091527</td>\n",
       "      <td>0.122874</td>\n",
       "      <td>0.203391</td>\n",
       "      <td>0.084308</td>\n",
       "      <td>0.000000</td>\n",
       "    </tr>\n",
       "    <tr>\n",
       "      <th>25%</th>\n",
       "      <td>0.400987</td>\n",
       "      <td>0.520146</td>\n",
       "      <td>0.432518</td>\n",
       "      <td>0.434051</td>\n",
       "      <td>0.440714</td>\n",
       "      <td>0.450381</td>\n",
       "      <td>0.435761</td>\n",
       "      <td>0.455294</td>\n",
       "      <td>0.459782</td>\n",
       "      <td>0.451613</td>\n",
       "      <td>...</td>\n",
       "      <td>0.418328</td>\n",
       "      <td>0.429447</td>\n",
       "      <td>0.454154</td>\n",
       "      <td>0.419394</td>\n",
       "      <td>0.462665</td>\n",
       "      <td>0.431733</td>\n",
       "      <td>0.433117</td>\n",
       "      <td>0.459312</td>\n",
       "      <td>0.426882</td>\n",
       "      <td>0.000000</td>\n",
       "    </tr>\n",
       "    <tr>\n",
       "      <th>50%</th>\n",
       "      <td>0.484532</td>\n",
       "      <td>0.606522</td>\n",
       "      <td>0.518301</td>\n",
       "      <td>0.521093</td>\n",
       "      <td>0.532029</td>\n",
       "      <td>0.541421</td>\n",
       "      <td>0.515165</td>\n",
       "      <td>0.536190</td>\n",
       "      <td>0.553868</td>\n",
       "      <td>0.553336</td>\n",
       "      <td>...</td>\n",
       "      <td>0.516321</td>\n",
       "      <td>0.518526</td>\n",
       "      <td>0.530434</td>\n",
       "      <td>0.511168</td>\n",
       "      <td>0.537688</td>\n",
       "      <td>0.516425</td>\n",
       "      <td>0.513839</td>\n",
       "      <td>0.531854</td>\n",
       "      <td>0.512715</td>\n",
       "      <td>0.000000</td>\n",
       "    </tr>\n",
       "    <tr>\n",
       "      <th>75%</th>\n",
       "      <td>0.558538</td>\n",
       "      <td>0.689332</td>\n",
       "      <td>0.610380</td>\n",
       "      <td>0.612304</td>\n",
       "      <td>0.626803</td>\n",
       "      <td>0.631509</td>\n",
       "      <td>0.600408</td>\n",
       "      <td>0.618163</td>\n",
       "      <td>0.642280</td>\n",
       "      <td>0.652955</td>\n",
       "      <td>...</td>\n",
       "      <td>0.609272</td>\n",
       "      <td>0.609523</td>\n",
       "      <td>0.612740</td>\n",
       "      <td>0.606228</td>\n",
       "      <td>0.615240</td>\n",
       "      <td>0.599240</td>\n",
       "      <td>0.603943</td>\n",
       "      <td>0.604092</td>\n",
       "      <td>0.601105</td>\n",
       "      <td>1.000000</td>\n",
       "    </tr>\n",
       "    <tr>\n",
       "      <th>max</th>\n",
       "      <td>1.000000</td>\n",
       "      <td>0.957991</td>\n",
       "      <td>0.948355</td>\n",
       "      <td>0.926667</td>\n",
       "      <td>1.000000</td>\n",
       "      <td>0.968043</td>\n",
       "      <td>0.919896</td>\n",
       "      <td>0.925766</td>\n",
       "      <td>0.984888</td>\n",
       "      <td>0.942225</td>\n",
       "      <td>...</td>\n",
       "      <td>0.991518</td>\n",
       "      <td>0.963360</td>\n",
       "      <td>0.914361</td>\n",
       "      <td>1.000000</td>\n",
       "      <td>0.974227</td>\n",
       "      <td>0.966555</td>\n",
       "      <td>0.952789</td>\n",
       "      <td>0.897327</td>\n",
       "      <td>0.940804</td>\n",
       "      <td>1.000000</td>\n",
       "    </tr>\n",
       "  </tbody>\n",
       "</table>\n",
       "<p>8 rows × 201 columns</p>\n",
       "</div>"
      ],
      "text/plain": [
       "                 0            1            2            3            4  \\\n",
       "count  1000.000000  1000.000000  1000.000000  1000.000000  1000.000000   \n",
       "mean      0.477035     0.605451     0.519756     0.521853     0.532841   \n",
       "std       0.130216     0.126000     0.133386     0.131019     0.136391   \n",
       "min       0.000000     0.192704     0.035719     0.105112     0.040008   \n",
       "25%       0.400987     0.520146     0.432518     0.434051     0.440714   \n",
       "50%       0.484532     0.606522     0.518301     0.521093     0.532029   \n",
       "75%       0.558538     0.689332     0.610380     0.612304     0.626803   \n",
       "max       1.000000     0.957991     0.948355     0.926667     1.000000   \n",
       "\n",
       "                 5            6            7            8            9  \\\n",
       "count  1000.000000  1000.000000  1000.000000  1000.000000  1000.000000   \n",
       "mean      0.539391     0.516900     0.536374     0.550829     0.550543   \n",
       "std       0.138600     0.122012     0.124102     0.135434     0.137617   \n",
       "min       0.009593     0.069655     0.000000     0.154268     0.105164   \n",
       "25%       0.450381     0.435761     0.455294     0.459782     0.451613   \n",
       "50%       0.541421     0.515165     0.536190     0.553868     0.553336   \n",
       "75%       0.631509     0.600408     0.618163     0.642280     0.652955   \n",
       "max       0.968043     0.919896     0.925766     0.984888     0.942225   \n",
       "\n",
       "          ...               191          192          193          194  \\\n",
       "count     ...       1000.000000  1000.000000  1000.000000  1000.000000   \n",
       "mean      ...          0.515363     0.517453     0.529597     0.513129   \n",
       "std       ...          0.139410     0.135775     0.117571     0.137555   \n",
       "min       ...          0.094081     0.064514     0.187355     0.044225   \n",
       "25%       ...          0.418328     0.429447     0.454154     0.419394   \n",
       "50%       ...          0.516321     0.518526     0.530434     0.511168   \n",
       "75%       ...          0.609272     0.609523     0.612740     0.606228   \n",
       "max       ...          0.991518     0.963360     0.914361     1.000000   \n",
       "\n",
       "               195          196          197          198          199  \\\n",
       "count  1000.000000  1000.000000  1000.000000  1000.000000  1000.000000   \n",
       "mean      0.539461     0.515945     0.518995     0.531421     0.514587   \n",
       "std       0.109567     0.126176     0.137746     0.111099     0.131352   \n",
       "min       0.192433     0.091527     0.122874     0.203391     0.084308   \n",
       "25%       0.462665     0.431733     0.433117     0.459312     0.426882   \n",
       "50%       0.537688     0.516425     0.513839     0.531854     0.512715   \n",
       "75%       0.615240     0.599240     0.603943     0.604092     0.601105   \n",
       "max       0.974227     0.966555     0.952789     0.897327     0.940804   \n",
       "\n",
       "             label  \n",
       "count  1000.000000  \n",
       "mean      0.482000  \n",
       "std       0.499926  \n",
       "min       0.000000  \n",
       "25%       0.000000  \n",
       "50%       0.000000  \n",
       "75%       1.000000  \n",
       "max       1.000000  \n",
       "\n",
       "[8 rows x 201 columns]"
      ]
     },
     "execution_count": 2,
     "metadata": {},
     "output_type": "execute_result"
    }
   ],
   "source": [
    "import pandas as pd\n",
    "\n",
    "d1_testing = pd.read_csv('data/D1_S2.csv', header=None)\n",
    "d1_testing.rename(columns={200: 'label'}, inplace=True)\n",
    "d1_testing['label'] = d1_training['label'].astype(int)\n",
    "d1_testing.describe()"
   ]
  },
  {
   "cell_type": "markdown",
   "metadata": {},
   "source": [
    "# Random forest"
   ]
  },
  {
   "cell_type": "code",
   "execution_count": 5,
   "metadata": {
    "collapsed": false
   },
   "outputs": [
    {
     "data": {
      "text/plain": [
       "0.50477018215607428"
      ]
     },
     "execution_count": 5,
     "metadata": {},
     "output_type": "execute_result"
    }
   ],
   "source": [
    "from sklearn.ensemble import RandomForestClassifier\n",
    "from sklearn.metrics import roc_auc_score\n",
    "\n",
    "clf = RandomForestClassifier(n_estimators=1000, n_jobs=-1)\n",
    "clf.fit(d1_training.drop('label', axis=1).values, d1_training['label'].values)\n",
    "roc_auc_score(y_score=clf.predict(d1_testing.drop('label', axis=1).values),\n",
    "              y_true=d1_testing['label'].values)"
   ]
  },
  {
   "cell_type": "code",
   "execution_count": 9,
   "metadata": {
    "collapsed": false
   },
   "outputs": [
    {
     "data": {
      "text/plain": [
       "array([ 0.52258768,  0.59303721,  0.54816927,  0.57973189,  0.50590236,\n",
       "        0.54786915,  0.58828531,  0.55902361,  0.57573029,  0.49863554])"
      ]
     },
     "execution_count": 9,
     "metadata": {},
     "output_type": "execute_result"
    }
   ],
   "source": [
    "from sklearn.preprocessing import StandardScaler, PolynomialFeatures\n",
    "from sklearn.ensemble import RandomForestClassifier\n",
    "from sklearn.pipeline import make_pipeline\n",
    "from sklearn.cross_validation import cross_val_score\n",
    "from sklearn.metrics import roc_auc_score\n",
    "\n",
    "training_features = d1_training.drop('label', axis=1).values\n",
    "training_labels = d1_training['label'].values\n",
    "\n",
    "pipeline = make_pipeline(StandardScaler(),\n",
    "                         PolynomialFeatures(),\n",
    "                         RandomForestClassifier(n_estimators=1000, n_jobs=-1))\n",
    "\n",
    "cross_val_score(pipeline, training_features, training_labels, cv=10, scoring='roc_auc')"
   ]
  },
  {
   "cell_type": "code",
   "execution_count": 11,
   "metadata": {
    "collapsed": false
   },
   "outputs": [
    {
     "data": {
      "text/plain": [
       "0.52618193178359152"
      ]
     },
     "execution_count": 11,
     "metadata": {},
     "output_type": "execute_result"
    }
   ],
   "source": [
    "from sklearn.preprocessing import StandardScaler, PolynomialFeatures\n",
    "from sklearn.ensemble import RandomForestClassifier\n",
    "from sklearn.pipeline import make_pipeline\n",
    "from sklearn.metrics import roc_auc_score\n",
    "\n",
    "training_features = d1_training.drop('label', axis=1).values\n",
    "training_labels = d1_training['label'].values\n",
    "\n",
    "testing_features = d1_testing.drop('label', axis=1).values\n",
    "testing_labels = d1_testing['label'].values\n",
    "\n",
    "clf = make_pipeline(StandardScaler(),\n",
    "                         PolynomialFeatures(),\n",
    "                         RandomForestClassifier(n_estimators=1000, n_jobs=-1))\n",
    "\n",
    "clf.fit(training_features, training_labels)\n",
    "roc_auc_score(y_score=clf.predict(d1_testing.drop('label', axis=1).values),\n",
    "              y_true=d1_testing['label'].values)"
   ]
  },
  {
   "cell_type": "markdown",
   "metadata": {},
   "source": [
    "# Support vector machine"
   ]
  },
  {
   "cell_type": "code",
   "execution_count": 4,
   "metadata": {
    "collapsed": false
   },
   "outputs": [
    {
     "data": {
      "text/plain": [
       "0.49442477450776207"
      ]
     },
     "execution_count": 4,
     "metadata": {},
     "output_type": "execute_result"
    }
   ],
   "source": [
    "from sklearn.svm import SVC\n",
    "from sklearn.metrics import roc_auc_score\n",
    "\n",
    "clf = SVC(C=1., kernel='linear')\n",
    "clf.fit(d1_training.drop('label', axis=1).values, d1_training['label'].values)\n",
    "roc_auc_score(y_score=clf.predict(d1_testing.drop('label', axis=1).values),\n",
    "              y_true=d1_testing['label'].values)"
   ]
  },
  {
   "cell_type": "code",
   "execution_count": 5,
   "metadata": {
    "collapsed": false
   },
   "outputs": [
    {
     "data": {
      "text/plain": [
       "array([ 0.47176541,  0.58223289,  0.56642657,  0.61744698,  0.50670268,\n",
       "        0.59753902,  0.54971989,  0.56522609,  0.5120048 ,  0.56701031])"
      ]
     },
     "execution_count": 5,
     "metadata": {},
     "output_type": "execute_result"
    }
   ],
   "source": [
    "from sklearn.preprocessing import StandardScaler, PolynomialFeatures\n",
    "from sklearn.svm import SVC\n",
    "from sklearn.pipeline import make_pipeline\n",
    "from sklearn.cross_validation import cross_val_score\n",
    "from sklearn.metrics import roc_auc_score\n",
    "\n",
    "training_features = d1_training.drop('label', axis=1).values\n",
    "training_labels = d1_training['label'].values\n",
    "\n",
    "clf = make_pipeline(StandardScaler(),\n",
    "                    PolynomialFeatures(),\n",
    "                    SVC(C=1., kernel='linear'))\n",
    "\n",
    "cross_val_score(clf, training_features, training_labels, cv=10, scoring='roc_auc')"
   ]
  },
  {
   "cell_type": "code",
   "execution_count": 6,
   "metadata": {
    "collapsed": false
   },
   "outputs": [
    {
     "data": {
      "text/plain": [
       "0.52081898139989424"
      ]
     },
     "execution_count": 6,
     "metadata": {},
     "output_type": "execute_result"
    }
   ],
   "source": [
    "from sklearn.preprocessing import StandardScaler, PolynomialFeatures\n",
    "from sklearn.svm import SVC\n",
    "from sklearn.pipeline import make_pipeline\n",
    "from sklearn.metrics import roc_auc_score\n",
    "\n",
    "training_features = d1_training.drop('label', axis=1).values\n",
    "training_labels = d1_training['label'].values\n",
    "\n",
    "testing_features = d1_testing.drop('label', axis=1).values\n",
    "testing_labels = d1_testing['label'].values\n",
    "\n",
    "clf = make_pipeline(StandardScaler(),\n",
    "                    PolynomialFeatures(),\n",
    "                    SVC(C=1., kernel='linear'))\n",
    "\n",
    "clf.fit(training_features, training_labels)\n",
    "roc_auc_score(y_score=clf.predict(d1_testing.drop('label', axis=1).values),\n",
    "              y_true=d1_testing['label'].values)"
   ]
  },
  {
   "cell_type": "markdown",
   "metadata": {
    "collapsed": true
   },
   "source": [
    "# TPOT"
   ]
  },
  {
   "cell_type": "code",
   "execution_count": 3,
   "metadata": {
    "collapsed": false
   },
   "outputs": [
    {
     "name": "stdout",
     "output_type": "stream",
     "text": [
      "gen\tnevals\tMinimum score\tAverage score\tMaximum score\n",
      "0  \t100   \t0.498599     \t0.5294       \t0.703721     \n",
      "1  \t96    \t0.5          \t0.614715     \t0.714966     \n",
      "2  \t87    \t0.5          \t0.674729     \t0.714966     \n",
      "3  \t86    \t0.5          \t0.683937     \t0.714966     \n",
      "4  \t88    \t0.5          \t0.700297     \t0.714966     \n",
      "5  \t88    \t0.508283     \t0.702653     \t0.714966     \n",
      "6  \t92    \t0.489036     \t0.692562     \t0.714966     \n",
      "7  \t92    \t0.5          \t0.69716      \t0.714966     \n",
      "8  \t89    \t0.5          \t0.701848     \t0.719448     \n",
      "9  \t87    \t0.5          \t0.702525     \t0.719448     \n",
      "10 \t93    \t0.620528     \t0.707411     \t0.719448     \n",
      "\n",
      "Best pipeline: _logistic_regression(_robust_scaler(_knnc(ARG0, 54)), _div(45, add(20, mul(add(mul(mul(5, 48), mul(79, 33)), 70), add(sub(51, 98), 35)))))\n"
     ]
    }
   ],
   "source": [
    "from tpot import TPOT\n",
    "\n",
    "my_tpot = TPOT(generations=10, verbosity=2)\n",
    "my_tpot.fit(d1_training.drop('label', axis=1).values, d1_training['label'].values)"
   ]
  },
  {
   "cell_type": "code",
   "execution_count": 6,
   "metadata": {
    "collapsed": false
   },
   "outputs": [
    {
     "data": {
      "text/plain": [
       "0.48897771511879395"
      ]
     },
     "execution_count": 6,
     "metadata": {},
     "output_type": "execute_result"
    }
   ],
   "source": [
    "my_tpot.score(d1_testing.drop('label', axis=1).values, d1_testing['label'].values)"
   ]
  },
  {
   "cell_type": "code",
   "execution_count": 7,
   "metadata": {
    "collapsed": false
   },
   "outputs": [
    {
     "data": {
      "text/plain": [
       "0.75511650637931327"
      ]
     },
     "execution_count": 7,
     "metadata": {},
     "output_type": "execute_result"
    }
   ],
   "source": [
    "my_tpot.score(d1_training.drop('label', axis=1).values, d1_training['label'].values)"
   ]
  },
  {
   "cell_type": "code",
   "execution_count": null,
   "metadata": {
    "collapsed": true
   },
   "outputs": [],
   "source": []
  }
 ],
 "metadata": {
  "kernelspec": {
   "display_name": "Python 3",
   "language": "python",
   "name": "python3"
  },
  "language_info": {
   "codemirror_mode": {
    "name": "ipython",
    "version": 3
   },
   "file_extension": ".py",
   "mimetype": "text/x-python",
   "name": "python",
   "nbconvert_exporter": "python",
   "pygments_lexer": "ipython3",
   "version": "3.5.1"
  }
 },
 "nbformat": 4,
 "nbformat_minor": 0
}
